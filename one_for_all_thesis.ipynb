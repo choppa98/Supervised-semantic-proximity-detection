{
  "cells": [
    {
      "cell_type": "markdown",
      "metadata": {
        "id": "view-in-github",
        "colab_type": "text"
      },
      "source": [
        "<a href=\"https://colab.research.google.com/github/choppa98/Supervised-semantic-proximity-detection/blob/main/one_for_all_thesis.ipynb\" target=\"_parent\"><img src=\"https://colab.research.google.com/assets/colab-badge.svg\" alt=\"Open In Colab\"/></a>"
      ]
    },
    {
      "cell_type": "markdown",
      "metadata": {
        "id": "8QUayU6ve0s_"
      },
      "source": [
        "This notebook loads datasets of semantic proximity (Word-in-Context) for various languages the [WUG format](https://www.ims.uni-stuttgart.de/en/research/resources/experiment-data/wugs/). We provide the data in a minimal and an extended format. There are in total 4 dataframes: judgments_full, judgments_wug, uses_full and uses_wug. There are 20 transformed datasets. The notebook should run of-the-shelf in a colab environment with python 3.8.\n",
        "\n",
        "Many of the data sets are transformed when running the notebook. We cannot guarantee that there are no errors. Hence, please make sure that you compare the created data frames to the original data sets before doing serious research with them.\n",
        "\n",
        "Note: Please run this script without gpu on colab.\n",
        "\n",
        "The datasets and their versions are as follows:\n",
        "\n",
        "#RuDSI - Russian\n",
        "rudsi = 'https://github.com/kategavrishina/RuDSI/tree/main/data'\n",
        "\n",
        "#NorDiaChange - Norwegian\n",
        "nordia1 = 'https://github.com/ltgoslo/nor_dia_change/tree/main/subset1/data'\n",
        "nordia2 = 'https://github.com/ltgoslo/nor_dia_change/tree/main/subset2/data'\n",
        "\n",
        "#RuShiftEval - Russian\n",
        "\n",
        "https://github.com/akutuzov/rushifteval_public.git\n",
        "rushifteval1 = 'https://github.com/akutuzov/rushifteval_public/tree/main/durel/rushifteval1/data'\n",
        "rushifteval2 = 'https://github.com/akutuzov/rushifteval_public/tree/main/durel/rushifteval2/data'\n",
        "rushifteval3 = 'https://github.com/akutuzov/rushifteval_public/tree/main/durel/rushifteval3/data'\n",
        "\n",
        "#RuSemShift - Russian\n",
        "rusemshift1 = 'https://github.com/juliarodina/RuSemShift/tree/master/rusemshift_1/DWUG/data'\n",
        "rusemshift2 = 'https://github.com/juliarodina/RuSemShift/tree/master/rusemshift_2/DWUG/data'\n",
        "\n",
        "#DiscoWUG - German (Version: 1.1.1)\n",
        "https://zenodo.org/record/7396225/files/discowug.zip\n",
        "\n",
        "\n",
        "\n",
        "#SURel - German (Version: 3.0.0)\n",
        "https://zenodo.org/record/5784569/files/surel.zip\n",
        "\n",
        "\n",
        "#DURel - German (Version: 3.0.0)\n",
        "https://zenodo.org/record/5784453/files/durel.zip\n",
        "\n",
        "\n",
        "#DWUG DE- German (Version: 2.3.0)\n",
        "https://zenodo.org/record/7441645/files/dwug_de.zip\n",
        "\n",
        "\n",
        "#RefWUG - German (Version: 1.1.0)\n",
        "https://zenodo.org/record/5791269/files/refwug.zip\n",
        "\n",
        "\n",
        "#DWUG EN - English (Version: 2.0.1)\n",
        "https://zenodo.org/record/7387261/files/dwug_en.zip\n",
        "\n",
        "\n",
        "#DWUG SV - Swedish(Version: 2.0.1)\n",
        "https://zenodo.org/record/7389506/files/dwug_sv.zip\n",
        "\n",
        "\n",
        "#DWUG ES - Spanish(Version: 4.0.0)\n",
        "https://zenodo.org/record/6433667/files/dwug_es.zip\n",
        "\n",
        "\n",
        "#DiaWUG - Spanish (Version: 1.1.0)\n",
        "https://zenodo.org/record/5791193/files/diawug.zip\n",
        "\n",
        "\n",
        "#DUPS_WUG - English (version 2.0.0)\n",
        "https://zenodo.org/record/5500223/files/DUPS-WUG.zip\n",
        "\n",
        "#WIC - English (version v1.0)\n",
        "https://pilehvar.github.io/wic/package/WiC_dataset.zip\n",
        "\n",
        "#TempoWIC - English\n",
        "https://codalab.lisn.upsaclay.fr/my/datasets/download/3e22f138-ca00-4b10-a0fd-2e914892200d\n",
        "\n",
        "#Raw-C - English\n",
        "https://raw.githubusercontent.com/seantrott/raw-c/main/data/processed/raw-c.csv\n",
        "\n",
        "#Usim - English\n",
        "http://www.dianamccarthy.co.uk/downloads/WordMeaningAnno2012/\n",
        "\n",
        "#CosimLex - English, Croatian, Finnish\n",
        "https://www.clarin.si/repository/xmlui/handle/11356/1308/allzip\n"
      ]
    },
    {
      "cell_type": "code",
      "execution_count": 1,
      "metadata": {
        "id": "DF_EmVh_2LPF"
      },
      "outputs": [],
      "source": [
        "from bs4 import BeautifulSoup\n",
        "import requests\n",
        "import pandas as pd\n",
        "import io\n",
        "import numpy as np\n",
        "import os\n",
        "from zipfile import ZipFile\n",
        "import csv"
      ]
    },
    {
      "cell_type": "code",
      "execution_count": 2,
      "metadata": {
        "colab": {
          "base_uri": "https://localhost:8080/"
        },
        "id": "W4IFGsLzzC5c",
        "outputId": "230299fd-29f9-4aac-9bcc-71ee6ca53b6a"
      },
      "outputs": [
        {
          "output_type": "stream",
          "name": "stdout",
          "text": [
            "Cloning into 'WUGs'...\n",
            "remote: Enumerating objects: 1761, done.\u001b[K\n",
            "remote: Counting objects: 100% (687/687), done.\u001b[K\n",
            "remote: Compressing objects: 100% (320/320), done.\u001b[K\n",
            "remote: Total 1761 (delta 403), reused 604 (delta 349), pack-reused 1074\u001b[K\n",
            "Receiving objects: 100% (1761/1761), 5.08 MiB | 6.02 MiB/s, done.\n",
            "Resolving deltas: 100% (1081/1081), done.\n"
          ]
        }
      ],
      "source": [
        "!git clone https://github.com/Garrafao/WUGs.git #contains transformation scripts"
      ]
    },
    {
      "cell_type": "code",
      "execution_count": 3,
      "metadata": {
        "colab": {
          "base_uri": "https://localhost:8080/"
        },
        "id": "i50pjpTzIAJ6",
        "outputId": "72ac11f6-00eb-4ac7-eeae-a3d363d2cf38"
      },
      "outputs": [
        {
          "output_type": "stream",
          "name": "stdout",
          "text": [
            "Cloning into 'rushifteval_public'...\n",
            "remote: Enumerating objects: 3238, done.\u001b[K\n",
            "remote: Counting objects: 100% (3238/3238), done.\u001b[K\n",
            "remote: Compressing objects: 100% (1376/1376), done.\u001b[K\n",
            "remote: Total 3238 (delta 1918), reused 3167 (delta 1859), pack-reused 0\u001b[K\n",
            "Receiving objects: 100% (3238/3238), 16.40 MiB | 12.12 MiB/s, done.\n",
            "Resolving deltas: 100% (1918/1918), done.\n",
            "Updating files: 100% (3704/3704), done.\n",
            "Cloning into 'RuSemShift'...\n",
            "remote: Enumerating objects: 2100, done.\u001b[K\n",
            "remote: Counting objects: 100% (2100/2100), done.\u001b[K\n",
            "remote: Compressing objects: 100% (991/991), done.\u001b[K\n",
            "remote: Total 2100 (delta 1182), reused 2013 (delta 1108), pack-reused 0\u001b[K\n",
            "Receiving objects: 100% (2100/2100), 9.80 MiB | 6.49 MiB/s, done.\n",
            "Resolving deltas: 100% (1182/1182), done.\n",
            "Cloning into 'RuDSI'...\n",
            "remote: Enumerating objects: 311, done.\u001b[K\n",
            "remote: Counting objects: 100% (226/226), done.\u001b[K\n",
            "remote: Compressing objects: 100% (167/167), done.\u001b[K\n",
            "remote: Total 311 (delta 73), reused 193 (delta 57), pack-reused 85\u001b[K\n",
            "Receiving objects: 100% (311/311), 1.80 MiB | 4.74 MiB/s, done.\n",
            "Resolving deltas: 100% (110/110), done.\n",
            "Cloning into 'nor_dia_change'...\n",
            "remote: Enumerating objects: 2258, done.\u001b[K\n",
            "remote: Counting objects: 100% (28/28), done.\u001b[K\n",
            "remote: Compressing objects: 100% (19/19), done.\u001b[K\n",
            "remote: Total 2258 (delta 23), reused 9 (delta 9), pack-reused 2230\u001b[K\n",
            "Receiving objects: 100% (2258/2258), 2.25 MiB | 4.71 MiB/s, done.\n",
            "Resolving deltas: 100% (1427/1427), done.\n"
          ]
        }
      ],
      "source": [
        "!git clone \"https://github.com/akutuzov/rushifteval_public.git\" #rushifteval\n",
        "!git clone \"https://github.com/juliarodina/RuSemShift.git\" #rusemshift\n",
        "!git clone \"https://github.com/kategavrishina/RuDSI.git\" #rudsi\n",
        "!git clone \"https://github.com/ltgoslo/nor_dia_change.git\" #nordiachange"
      ]
    },
    {
      "cell_type": "code",
      "execution_count": 11,
      "metadata": {
        "colab": {
          "base_uri": "https://localhost:8080/"
        },
        "id": "xpsldp-xtTHX",
        "outputId": "9e9fab69-31fe-4e69-86fe-b757400d48e2"
      },
      "outputs": [
        {
          "output_type": "stream",
          "name": "stdout",
          "text": [
            "--2024-07-18 08:42:45--  https://zenodo.org/record/7396225/files/discowug.zip\n",
            "Resolving zenodo.org (zenodo.org)... 188.185.79.172, 188.184.103.159, 188.184.98.238, ...\n",
            "Connecting to zenodo.org (zenodo.org)|188.185.79.172|:443... connected.\n",
            "HTTP request sent, awaiting response... 301 MOVED PERMANENTLY\n",
            "Location: /records/7396225/files/discowug.zip [following]\n",
            "--2024-07-18 08:42:46--  https://zenodo.org/records/7396225/files/discowug.zip\n",
            "Reusing existing connection to zenodo.org:443.\n",
            "HTTP request sent, awaiting response... 200 OK\n",
            "Length: 5486849 (5.2M) [application/octet-stream]\n",
            "Saving to: ‘discowug.zip’\n",
            "\n",
            "discowug.zip        100%[===================>]   5.23M   668KB/s    in 9.5s    \n",
            "\n",
            "2024-07-18 08:42:55 (562 KB/s) - ‘discowug.zip’ saved [5486849/5486849]\n",
            "\n",
            "--2024-07-18 08:42:56--  https://zenodo.org/record/5784569/files/surel.zip\n",
            "Resolving zenodo.org (zenodo.org)... 188.185.79.172, 188.184.103.159, 188.184.98.238, ...\n",
            "Connecting to zenodo.org (zenodo.org)|188.185.79.172|:443... connected.\n",
            "HTTP request sent, awaiting response... 301 MOVED PERMANENTLY\n",
            "Location: /records/5784569/files/surel.zip [following]\n",
            "--2024-07-18 08:42:56--  https://zenodo.org/records/5784569/files/surel.zip\n",
            "Reusing existing connection to zenodo.org:443.\n",
            "HTTP request sent, awaiting response... 200 OK\n",
            "Length: 2676637 (2.6M) [application/octet-stream]\n",
            "Saving to: ‘surel.zip’\n",
            "\n",
            "surel.zip           100%[===================>]   2.55M   601KB/s    in 4.9s    \n",
            "\n",
            "2024-07-18 08:43:01 (536 KB/s) - ‘surel.zip’ saved [2676637/2676637]\n",
            "\n",
            "--2024-07-18 08:43:02--  https://zenodo.org/record/5784453/files/durel.zip\n",
            "Resolving zenodo.org (zenodo.org)... 188.185.79.172, 188.184.103.159, 188.184.98.238, ...\n",
            "Connecting to zenodo.org (zenodo.org)|188.185.79.172|:443... connected.\n",
            "HTTP request sent, awaiting response... 301 MOVED PERMANENTLY\n",
            "Location: /records/5784453/files/durel.zip [following]\n",
            "--2024-07-18 08:43:02--  https://zenodo.org/records/5784453/files/durel.zip\n",
            "Reusing existing connection to zenodo.org:443.\n",
            "HTTP request sent, awaiting response... 200 OK\n",
            "Length: 7904030 (7.5M) [application/octet-stream]\n",
            "Saving to: ‘durel.zip’\n",
            "\n",
            "durel.zip           100%[===================>]   7.54M   649KB/s    in 14s     \n",
            "\n",
            "2024-07-18 08:43:16 (562 KB/s) - ‘durel.zip’ saved [7904030/7904030]\n",
            "\n",
            "--2024-07-18 08:43:16--  https://zenodo.org/record/7441645/files/dwug_de.zip\n",
            "Resolving zenodo.org (zenodo.org)... 188.184.103.159, 188.184.98.238, 188.185.79.172, ...\n",
            "Connecting to zenodo.org (zenodo.org)|188.184.103.159|:443... connected.\n",
            "HTTP request sent, awaiting response... 301 MOVED PERMANENTLY\n",
            "Location: /records/7441645/files/dwug_de.zip [following]\n",
            "--2024-07-18 08:43:17--  https://zenodo.org/records/7441645/files/dwug_de.zip\n",
            "Reusing existing connection to zenodo.org:443.\n",
            "HTTP request sent, awaiting response... 200 OK\n",
            "Length: 14620222 (14M) [application/octet-stream]\n",
            "Saving to: ‘dwug_de.zip’\n",
            "\n",
            "dwug_de.zip         100%[===================>]  13.94M  6.76MB/s    in 2.1s    \n",
            "\n",
            "2024-07-18 08:43:19 (6.76 MB/s) - ‘dwug_de.zip’ saved [14620222/14620222]\n",
            "\n",
            "--2024-07-18 08:43:20--  https://zenodo.org/record/5791269/files/refwug.zip\n",
            "Resolving zenodo.org (zenodo.org)... 188.184.103.159, 188.184.98.238, 188.185.79.172, ...\n",
            "Connecting to zenodo.org (zenodo.org)|188.184.103.159|:443... connected.\n",
            "HTTP request sent, awaiting response... 301 MOVED PERMANENTLY\n",
            "Location: /records/5791269/files/refwug.zip [following]\n",
            "--2024-07-18 08:43:21--  https://zenodo.org/records/5791269/files/refwug.zip\n",
            "Reusing existing connection to zenodo.org:443.\n",
            "HTTP request sent, awaiting response... 200 OK\n",
            "Length: 4514549 (4.3M) [application/octet-stream]\n",
            "Saving to: ‘refwug.zip’\n",
            "\n",
            "refwug.zip          100%[===================>]   4.30M  3.00MB/s    in 1.4s    \n",
            "\n",
            "2024-07-18 08:43:22 (3.00 MB/s) - ‘refwug.zip’ saved [4514549/4514549]\n",
            "\n",
            "--2024-07-18 08:43:23--  https://zenodo.org/record/7387261/files/dwug_en.zip\n",
            "Resolving zenodo.org (zenodo.org)... 188.184.103.159, 188.184.98.238, 188.185.79.172, ...\n",
            "Connecting to zenodo.org (zenodo.org)|188.184.103.159|:443... connected.\n",
            "HTTP request sent, awaiting response... 301 MOVED PERMANENTLY\n",
            "Location: /records/7387261/files/dwug_en.zip [following]\n",
            "--2024-07-18 08:43:23--  https://zenodo.org/records/7387261/files/dwug_en.zip\n",
            "Reusing existing connection to zenodo.org:443.\n",
            "HTTP request sent, awaiting response... 200 OK\n",
            "Length: 11468345 (11M) [application/octet-stream]\n",
            "Saving to: ‘dwug_en.zip’\n",
            "\n",
            "dwug_en.zip         100%[===================>]  10.94M  1.06MB/s    in 17s     \n",
            "\n",
            "2024-07-18 08:43:40 (677 KB/s) - ‘dwug_en.zip’ saved [11468345/11468345]\n",
            "\n",
            "--2024-07-18 08:43:40--  https://zenodo.org/record/7389506/files/dwug_sv.zip\n",
            "Resolving zenodo.org (zenodo.org)... 188.184.103.159, 188.184.98.238, 188.185.79.172, ...\n",
            "Connecting to zenodo.org (zenodo.org)|188.184.103.159|:443... connected.\n",
            "HTTP request sent, awaiting response... 301 MOVED PERMANENTLY\n",
            "Location: /records/7389506/files/dwug_sv.zip [following]\n",
            "--2024-07-18 08:43:41--  https://zenodo.org/records/7389506/files/dwug_sv.zip\n",
            "Reusing existing connection to zenodo.org:443.\n",
            "HTTP request sent, awaiting response... 200 OK\n",
            "Length: 12244228 (12M) [application/octet-stream]\n",
            "Saving to: ‘dwug_sv.zip’\n",
            "\n",
            "dwug_sv.zip         100%[===================>]  11.68M  3.49MB/s    in 4.9s    \n",
            "\n",
            "2024-07-18 08:43:46 (2.39 MB/s) - ‘dwug_sv.zip’ saved [12244228/12244228]\n",
            "\n",
            "--2024-07-18 08:43:47--  https://zenodo.org/record/6433667/files/dwug_es.zip\n",
            "Resolving zenodo.org (zenodo.org)... 188.184.103.159, 188.184.98.238, 188.185.79.172, ...\n",
            "Connecting to zenodo.org (zenodo.org)|188.184.103.159|:443... connected.\n",
            "HTTP request sent, awaiting response... 301 MOVED PERMANENTLY\n",
            "Location: /records/6433667/files/dwug_es.zip [following]\n",
            "--2024-07-18 08:43:47--  https://zenodo.org/records/6433667/files/dwug_es.zip\n",
            "Reusing existing connection to zenodo.org:443.\n",
            "HTTP request sent, awaiting response... 200 OK\n",
            "Length: 13771776 (13M) [application/octet-stream]\n",
            "Saving to: ‘dwug_es.zip’\n",
            "\n",
            "dwug_es.zip         100%[===================>]  13.13M  6.89MB/s    in 1.9s    \n",
            "\n",
            "2024-07-18 08:43:49 (6.89 MB/s) - ‘dwug_es.zip’ saved [13771776/13771776]\n",
            "\n",
            "--2024-07-18 08:43:50--  https://zenodo.org/record/5791193/files/diawug.zip\n",
            "Resolving zenodo.org (zenodo.org)... 188.184.103.159, 188.184.98.238, 188.185.79.172, ...\n",
            "Connecting to zenodo.org (zenodo.org)|188.184.103.159|:443... connected.\n",
            "HTTP request sent, awaiting response... 301 MOVED PERMANENTLY\n",
            "Location: /records/5791193/files/diawug.zip [following]\n",
            "--2024-07-18 08:43:51--  https://zenodo.org/records/5791193/files/diawug.zip\n",
            "Reusing existing connection to zenodo.org:443.\n",
            "HTTP request sent, awaiting response... 200 OK\n",
            "Length: 7301672 (7.0M) [application/octet-stream]\n",
            "Saving to: ‘diawug.zip’\n",
            "\n",
            "diawug.zip          100%[===================>]   6.96M  4.39MB/s    in 1.6s    \n",
            "\n",
            "2024-07-18 08:43:53 (4.39 MB/s) - ‘diawug.zip’ saved [7301672/7301672]\n",
            "\n",
            "--2024-07-18 08:43:53--  https://zenodo.org/record/5500223/files/DUPS-WUG.zip\n",
            "Resolving zenodo.org (zenodo.org)... 188.184.103.159, 188.184.98.238, 188.185.79.172, ...\n",
            "Connecting to zenodo.org (zenodo.org)|188.184.103.159|:443... connected.\n",
            "HTTP request sent, awaiting response... 301 MOVED PERMANENTLY\n",
            "Location: /records/5500223/files/DUPS-WUG.zip [following]\n",
            "--2024-07-18 08:43:54--  https://zenodo.org/records/5500223/files/DUPS-WUG.zip\n",
            "Reusing existing connection to zenodo.org:443.\n",
            "HTTP request sent, awaiting response... 200 OK\n",
            "Length: 4741334 (4.5M) [application/octet-stream]\n",
            "Saving to: ‘DUPS-WUG.zip’\n",
            "\n",
            "DUPS-WUG.zip        100%[===================>]   4.52M  3.15MB/s    in 1.4s    \n",
            "\n",
            "2024-07-18 08:43:55 (3.15 MB/s) - ‘DUPS-WUG.zip’ saved [4741334/4741334]\n",
            "\n"
          ]
        }
      ],
      "source": [
        "#RuDSI\n",
        "rudsi = 'RuDSI/data/'\n",
        "\n",
        "#NorDiaChange\n",
        "nordia1 = 'nor_dia_change/subset1/data/'\n",
        "nordia2 = 'nor_dia_change/subset2/data/'\n",
        "\n",
        "#RuShiftEval\n",
        "rushifteval1 = 'rushifteval_public/durel/rushifteval1/data/'\n",
        "rushifteval2 = 'rushifteval_public/durel/rushifteval2/data/'\n",
        "rushifteval3 = 'rushifteval_public/durel/rushifteval3/data/'\n",
        "\n",
        "#RuSemShift\n",
        "rusemshift1 = 'RuSemShift/rusemshift_1/DWUG/data/'\n",
        "rusemshift2 = 'RuSemShift/rusemshift_2/DWUG/data/'\n",
        "\n",
        "#Discowug\n",
        "!wget https://zenodo.org/record/7396225/files/discowug.zip\n",
        "with ZipFile('discowug.zip', 'r') as discowug:\n",
        "    discowug.extractall()\n",
        "\n",
        "\n",
        "#surel\n",
        "!wget https://zenodo.org/record/5784569/files/surel.zip\n",
        "with ZipFile('surel.zip', 'r') as surel:\n",
        "    surel.extractall()\n",
        "\n",
        "#durel\n",
        "!wget https://zenodo.org/record/5784453/files/durel.zip\n",
        "with ZipFile('durel.zip', 'r') as durel:\n",
        "    durel.extractall()\n",
        "\n",
        "#DWUG DE\n",
        "!wget https://zenodo.org/record/7441645/files/dwug_de.zip\n",
        "with ZipFile('dwug_de.zip', 'r') as dwug_de:\n",
        "    dwug_de.extractall()\n",
        "\n",
        "#RefWUG\n",
        "!wget https://zenodo.org/record/5791269/files/refwug.zip\n",
        "with ZipFile('refwug.zip', 'r') as refwug:\n",
        "    refwug.extractall()\n",
        "\n",
        "#DWUG EN\n",
        "!wget https://zenodo.org/record/7387261/files/dwug_en.zip\n",
        "with ZipFile('dwug_en.zip', 'r') as dwug_en:\n",
        "    dwug_en.extractall()\n",
        "\n",
        "\n",
        "#DWUG SV\n",
        "!wget https://zenodo.org/record/7389506/files/dwug_sv.zip\n",
        "with ZipFile('dwug_sv.zip', 'r') as dwug_sv:\n",
        "    dwug_sv.extractall()\n",
        "\n",
        "\n",
        "#DWUG ES\n",
        "!wget https://zenodo.org/record/6433667/files/dwug_es.zip\n",
        "with ZipFile('dwug_es.zip', 'r') as dwug_es:\n",
        "    dwug_es.extractall()\n",
        "\n",
        "#DiaWUG\n",
        "!wget https://zenodo.org/record/5791193/files/diawug.zip\n",
        "with ZipFile('diawug.zip', 'r') as diawug:\n",
        "    diawug.extractall()\n",
        "\n",
        "\n",
        "#chiWUG\n",
        "!wget https://zenodo.org/records/10023263/files/chiwug.zip\n",
        "with ZipFile('chiwug.zip', 'r') as chiwug:\n",
        "    chiwug.extractall()\n"
      ]
    },
    {
      "cell_type": "code",
      "source": [
        "!wget https://zenodo.org/records/10023263/files/chiwug.zip\n",
        "with ZipFile('chiwug.zip', 'r') as chiwug:\n",
        "    chiwug.extractall()\n"
      ],
      "metadata": {
        "colab": {
          "base_uri": "https://localhost:8080/"
        },
        "id": "jbS8ysuHCmj5",
        "outputId": "995061be-e1f1-4e61-bed5-943b7ab5e41d"
      },
      "execution_count": 17,
      "outputs": [
        {
          "output_type": "stream",
          "name": "stdout",
          "text": [
            "--2024-07-18 08:52:43--  https://zenodo.org/records/10023263/files/chiwug.zip\n",
            "Resolving zenodo.org (zenodo.org)... 188.185.79.172, 188.184.98.238, 188.184.103.159, ...\n",
            "Connecting to zenodo.org (zenodo.org)|188.185.79.172|:443... connected.\n",
            "HTTP request sent, awaiting response... 200 OK\n",
            "Length: 5891045 (5.6M) [application/octet-stream]\n",
            "Saving to: ‘chiwug.zip’\n",
            "\n",
            "chiwug.zip          100%[===================>]   5.62M   610KB/s    in 9.6s    \n",
            "\n",
            "2024-07-18 08:52:53 (602 KB/s) - ‘chiwug.zip’ saved [5891045/5891045]\n",
            "\n"
          ]
        }
      ]
    },
    {
      "cell_type": "code",
      "execution_count": 19,
      "metadata": {
        "id": "Gxu63ay6fntu"
      },
      "outputs": [],
      "source": [
        "dwugde = \"dwug_de/data\"                          #WUG data directory paths\n",
        "dwugen = \"dwug_en/data\"\n",
        "dwugsv = \"dwug_sv/data\"\n",
        "discowugg = \"discowug/data\"\n",
        "durel = \"durel/data\"\n",
        "surel = \"surel/data\"\n",
        "refwug = \"refwug/data\"\n",
        "dwuges = 'dwug_es/data'\n",
        "diawug = 'diawug/data'\n",
        "chiwug = 'chiwug/data'\n",
        "dwug = [dwugde, dwugen,dwugsv,discowugg, durel, surel, refwug, dwuges, diawug, chiwug]\n",
        "dirlist = []\n",
        "for dataset in dwug:\n",
        "  dir = os.listdir(dataset)\n",
        "  dirlist.append(dir)"
      ]
    },
    {
      "cell_type": "code",
      "execution_count": 20,
      "metadata": {
        "id": "wt41rHU53UQU"
      },
      "outputs": [],
      "source": [
        "dwug_j = []                                                #dwug data paths\n",
        "for i in dirlist[0]:\n",
        "  dwugde_j = \"dwug_de/data/\" + i + \"/judgments.csv\"\n",
        "  dwug_j.append(dwugde_j)\n",
        "for i in dirlist[1]:\n",
        "  dwugen_j = \"dwug_en/data/\" + i + \"/judgments.csv\"\n",
        "  dwug_j.append(dwugen_j)\n",
        "for i in dirlist[2]:\n",
        "  dwugsv_j = \"dwug_sv/data/\" + i + \"/judgments.csv\"\n",
        "  dwug_j.append(dwugsv_j)\n",
        "for i in dirlist[3]:\n",
        "  discowugg_j = \"discowug/data/\" + i + \"/judgments.csv\"\n",
        "  dwug_j.append(discowugg_j)\n",
        "for i in dirlist[4]:\n",
        "  durel_j = \"durel/data/\" + i + \"/judgments.csv\"\n",
        "  dwug_j.append(durel_j)\n",
        "for i in dirlist[5]:\n",
        "  surel_j = \"surel/data/\" + i + \"/judgments.csv\"\n",
        "  dwug_j.append(surel_j)\n",
        "for i in dirlist[6]:\n",
        "  refwug_j = \"refwug/data/\" + i + \"/judgments.csv\"\n",
        "  dwug_j.append(refwug_j)\n",
        "for i in dirlist[7]:\n",
        "  dwuges_j = \"dwug_es/data/\" + i + \"/judgments.csv\"\n",
        "  dwug_j.append(dwuges_j)\n",
        "for i in dirlist[8]:\n",
        "  diawug_j = \"diawug/data/\" + i + \"/judgments.csv\"\n",
        "  dwug_j.append(diawug_j)\n",
        "for i in dirlist[9]:\n",
        "  dups_j = \"chiwug/data/\" + i + \"/judgments.csv\"\n",
        "  dwug_j.append(dups_j)"
      ]
    },
    {
      "cell_type": "code",
      "execution_count": 21,
      "metadata": {
        "id": "40oRLVLdYXTR"
      },
      "outputs": [],
      "source": [
        "judgemnt_df = pd.DataFrame()            #dwug data judgments df\n",
        "for i in dwug_j:\n",
        "   Tmp = pd.read_csv(i, delimiter='\\t', quoting = 3)\n",
        "   Tmp['dataset'] = i.split('/')[0]\n",
        "   judgemnt_df = pd.concat([judgemnt_df, Tmp])\n"
      ]
    },
    {
      "cell_type": "code",
      "execution_count": 23,
      "metadata": {
        "colab": {
          "base_uri": "https://localhost:8080/",
          "height": 424
        },
        "id": "5mU5ZOhumZYS",
        "outputId": "eb359d0a-77a2-4d98-c8d0-fcd01b12bfdf"
      },
      "outputs": [
        {
          "output_type": "execute_result",
          "data": {
            "text/plain": [
              "                                   identifier1  \\\n",
              "0      2532889X_1982-10-23_01_216.tcf.xml-7-17   \n",
              "1               brehm_thierleben06_1869-8719-2   \n",
              "2     2532889X_1958-11-12_01_012.tcf.xml-74-12   \n",
              "3                   frapan_fluegel_1895-2258-4   \n",
              "4           boelsche_liebesleben01_1898-681-69   \n",
              "...                                        ...   \n",
              "1555                                   1985-60   \n",
              "1556                                   1972-42   \n",
              "1557                                   1958-30   \n",
              "1558                                   1958-30   \n",
              "1559                                   1991-88   \n",
              "\n",
              "                                  identifier2   annotator  judgment comment  \\\n",
              "0     26120215_1986_09_20_01_314.tcf.xml-6-10  annotator1       3.0           \n",
              "1           boelsche_liebesleben01_1898-301-6  annotator1       2.0           \n",
              "2                  vogt_briefe02_1851-6076-26  annotator1       2.0           \n",
              "3     26120215_1984_01_14_01_119.tcf.xml-67-8  annotator1       2.0           \n",
              "4     26120215_1975_06_23_01_053.tcf.xml-3-39  annotator1       3.0           \n",
              "...                                       ...         ...       ...     ...   \n",
              "1555                                  1987-79  annotator1       4.0           \n",
              "1556                                   1958-9  annotator1       4.0           \n",
              "1557                                  1982-72  annotator1       4.0           \n",
              "1558                                  1961-45  annotator1       0.0           \n",
              "1559                                  1997-93  annotator1       4.0           \n",
              "\n",
              "              lemma  round  dataset group  \n",
              "0     Eintagsfliege    3.0  dwug_de   NaN  \n",
              "1     Eintagsfliege    3.0  dwug_de   NaN  \n",
              "2     Eintagsfliege    3.0  dwug_de   NaN  \n",
              "3     Eintagsfliege    3.0  dwug_de   NaN  \n",
              "4     Eintagsfliege    3.0  dwug_de   NaN  \n",
              "...             ...    ...      ...   ...  \n",
              "1555              炒    NaN   chiwug   NaN  \n",
              "1556              炒    NaN   chiwug   NaN  \n",
              "1557              炒    NaN   chiwug   NaN  \n",
              "1558              炒    NaN   chiwug   NaN  \n",
              "1559              炒    NaN   chiwug   NaN  \n",
              "\n",
              "[306973 rows x 9 columns]"
            ],
            "text/html": [
              "\n",
              "  <div id=\"df-775c8c6e-2ff4-443f-905c-b6b83cd6978a\" class=\"colab-df-container\">\n",
              "    <div>\n",
              "<style scoped>\n",
              "    .dataframe tbody tr th:only-of-type {\n",
              "        vertical-align: middle;\n",
              "    }\n",
              "\n",
              "    .dataframe tbody tr th {\n",
              "        vertical-align: top;\n",
              "    }\n",
              "\n",
              "    .dataframe thead th {\n",
              "        text-align: right;\n",
              "    }\n",
              "</style>\n",
              "<table border=\"1\" class=\"dataframe\">\n",
              "  <thead>\n",
              "    <tr style=\"text-align: right;\">\n",
              "      <th></th>\n",
              "      <th>identifier1</th>\n",
              "      <th>identifier2</th>\n",
              "      <th>annotator</th>\n",
              "      <th>judgment</th>\n",
              "      <th>comment</th>\n",
              "      <th>lemma</th>\n",
              "      <th>round</th>\n",
              "      <th>dataset</th>\n",
              "      <th>group</th>\n",
              "    </tr>\n",
              "  </thead>\n",
              "  <tbody>\n",
              "    <tr>\n",
              "      <th>0</th>\n",
              "      <td>2532889X_1982-10-23_01_216.tcf.xml-7-17</td>\n",
              "      <td>26120215_1986_09_20_01_314.tcf.xml-6-10</td>\n",
              "      <td>annotator1</td>\n",
              "      <td>3.0</td>\n",
              "      <td></td>\n",
              "      <td>Eintagsfliege</td>\n",
              "      <td>3.0</td>\n",
              "      <td>dwug_de</td>\n",
              "      <td>NaN</td>\n",
              "    </tr>\n",
              "    <tr>\n",
              "      <th>1</th>\n",
              "      <td>brehm_thierleben06_1869-8719-2</td>\n",
              "      <td>boelsche_liebesleben01_1898-301-6</td>\n",
              "      <td>annotator1</td>\n",
              "      <td>2.0</td>\n",
              "      <td></td>\n",
              "      <td>Eintagsfliege</td>\n",
              "      <td>3.0</td>\n",
              "      <td>dwug_de</td>\n",
              "      <td>NaN</td>\n",
              "    </tr>\n",
              "    <tr>\n",
              "      <th>2</th>\n",
              "      <td>2532889X_1958-11-12_01_012.tcf.xml-74-12</td>\n",
              "      <td>vogt_briefe02_1851-6076-26</td>\n",
              "      <td>annotator1</td>\n",
              "      <td>2.0</td>\n",
              "      <td></td>\n",
              "      <td>Eintagsfliege</td>\n",
              "      <td>3.0</td>\n",
              "      <td>dwug_de</td>\n",
              "      <td>NaN</td>\n",
              "    </tr>\n",
              "    <tr>\n",
              "      <th>3</th>\n",
              "      <td>frapan_fluegel_1895-2258-4</td>\n",
              "      <td>26120215_1984_01_14_01_119.tcf.xml-67-8</td>\n",
              "      <td>annotator1</td>\n",
              "      <td>2.0</td>\n",
              "      <td></td>\n",
              "      <td>Eintagsfliege</td>\n",
              "      <td>3.0</td>\n",
              "      <td>dwug_de</td>\n",
              "      <td>NaN</td>\n",
              "    </tr>\n",
              "    <tr>\n",
              "      <th>4</th>\n",
              "      <td>boelsche_liebesleben01_1898-681-69</td>\n",
              "      <td>26120215_1975_06_23_01_053.tcf.xml-3-39</td>\n",
              "      <td>annotator1</td>\n",
              "      <td>3.0</td>\n",
              "      <td></td>\n",
              "      <td>Eintagsfliege</td>\n",
              "      <td>3.0</td>\n",
              "      <td>dwug_de</td>\n",
              "      <td>NaN</td>\n",
              "    </tr>\n",
              "    <tr>\n",
              "      <th>...</th>\n",
              "      <td>...</td>\n",
              "      <td>...</td>\n",
              "      <td>...</td>\n",
              "      <td>...</td>\n",
              "      <td>...</td>\n",
              "      <td>...</td>\n",
              "      <td>...</td>\n",
              "      <td>...</td>\n",
              "      <td>...</td>\n",
              "    </tr>\n",
              "    <tr>\n",
              "      <th>1555</th>\n",
              "      <td>1985-60</td>\n",
              "      <td>1987-79</td>\n",
              "      <td>annotator1</td>\n",
              "      <td>4.0</td>\n",
              "      <td></td>\n",
              "      <td>炒</td>\n",
              "      <td>NaN</td>\n",
              "      <td>chiwug</td>\n",
              "      <td>NaN</td>\n",
              "    </tr>\n",
              "    <tr>\n",
              "      <th>1556</th>\n",
              "      <td>1972-42</td>\n",
              "      <td>1958-9</td>\n",
              "      <td>annotator1</td>\n",
              "      <td>4.0</td>\n",
              "      <td></td>\n",
              "      <td>炒</td>\n",
              "      <td>NaN</td>\n",
              "      <td>chiwug</td>\n",
              "      <td>NaN</td>\n",
              "    </tr>\n",
              "    <tr>\n",
              "      <th>1557</th>\n",
              "      <td>1958-30</td>\n",
              "      <td>1982-72</td>\n",
              "      <td>annotator1</td>\n",
              "      <td>4.0</td>\n",
              "      <td></td>\n",
              "      <td>炒</td>\n",
              "      <td>NaN</td>\n",
              "      <td>chiwug</td>\n",
              "      <td>NaN</td>\n",
              "    </tr>\n",
              "    <tr>\n",
              "      <th>1558</th>\n",
              "      <td>1958-30</td>\n",
              "      <td>1961-45</td>\n",
              "      <td>annotator1</td>\n",
              "      <td>0.0</td>\n",
              "      <td></td>\n",
              "      <td>炒</td>\n",
              "      <td>NaN</td>\n",
              "      <td>chiwug</td>\n",
              "      <td>NaN</td>\n",
              "    </tr>\n",
              "    <tr>\n",
              "      <th>1559</th>\n",
              "      <td>1991-88</td>\n",
              "      <td>1997-93</td>\n",
              "      <td>annotator1</td>\n",
              "      <td>4.0</td>\n",
              "      <td></td>\n",
              "      <td>炒</td>\n",
              "      <td>NaN</td>\n",
              "      <td>chiwug</td>\n",
              "      <td>NaN</td>\n",
              "    </tr>\n",
              "  </tbody>\n",
              "</table>\n",
              "<p>306973 rows × 9 columns</p>\n",
              "</div>\n",
              "    <div class=\"colab-df-buttons\">\n",
              "\n",
              "  <div class=\"colab-df-container\">\n",
              "    <button class=\"colab-df-convert\" onclick=\"convertToInteractive('df-775c8c6e-2ff4-443f-905c-b6b83cd6978a')\"\n",
              "            title=\"Convert this dataframe to an interactive table.\"\n",
              "            style=\"display:none;\">\n",
              "\n",
              "  <svg xmlns=\"http://www.w3.org/2000/svg\" height=\"24px\" viewBox=\"0 -960 960 960\">\n",
              "    <path d=\"M120-120v-720h720v720H120Zm60-500h600v-160H180v160Zm220 220h160v-160H400v160Zm0 220h160v-160H400v160ZM180-400h160v-160H180v160Zm440 0h160v-160H620v160ZM180-180h160v-160H180v160Zm440 0h160v-160H620v160Z\"/>\n",
              "  </svg>\n",
              "    </button>\n",
              "\n",
              "  <style>\n",
              "    .colab-df-container {\n",
              "      display:flex;\n",
              "      gap: 12px;\n",
              "    }\n",
              "\n",
              "    .colab-df-convert {\n",
              "      background-color: #E8F0FE;\n",
              "      border: none;\n",
              "      border-radius: 50%;\n",
              "      cursor: pointer;\n",
              "      display: none;\n",
              "      fill: #1967D2;\n",
              "      height: 32px;\n",
              "      padding: 0 0 0 0;\n",
              "      width: 32px;\n",
              "    }\n",
              "\n",
              "    .colab-df-convert:hover {\n",
              "      background-color: #E2EBFA;\n",
              "      box-shadow: 0px 1px 2px rgba(60, 64, 67, 0.3), 0px 1px 3px 1px rgba(60, 64, 67, 0.15);\n",
              "      fill: #174EA6;\n",
              "    }\n",
              "\n",
              "    .colab-df-buttons div {\n",
              "      margin-bottom: 4px;\n",
              "    }\n",
              "\n",
              "    [theme=dark] .colab-df-convert {\n",
              "      background-color: #3B4455;\n",
              "      fill: #D2E3FC;\n",
              "    }\n",
              "\n",
              "    [theme=dark] .colab-df-convert:hover {\n",
              "      background-color: #434B5C;\n",
              "      box-shadow: 0px 1px 3px 1px rgba(0, 0, 0, 0.15);\n",
              "      filter: drop-shadow(0px 1px 2px rgba(0, 0, 0, 0.3));\n",
              "      fill: #FFFFFF;\n",
              "    }\n",
              "  </style>\n",
              "\n",
              "    <script>\n",
              "      const buttonEl =\n",
              "        document.querySelector('#df-775c8c6e-2ff4-443f-905c-b6b83cd6978a button.colab-df-convert');\n",
              "      buttonEl.style.display =\n",
              "        google.colab.kernel.accessAllowed ? 'block' : 'none';\n",
              "\n",
              "      async function convertToInteractive(key) {\n",
              "        const element = document.querySelector('#df-775c8c6e-2ff4-443f-905c-b6b83cd6978a');\n",
              "        const dataTable =\n",
              "          await google.colab.kernel.invokeFunction('convertToInteractive',\n",
              "                                                    [key], {});\n",
              "        if (!dataTable) return;\n",
              "\n",
              "        const docLinkHtml = 'Like what you see? Visit the ' +\n",
              "          '<a target=\"_blank\" href=https://colab.research.google.com/notebooks/data_table.ipynb>data table notebook</a>'\n",
              "          + ' to learn more about interactive tables.';\n",
              "        element.innerHTML = '';\n",
              "        dataTable['output_type'] = 'display_data';\n",
              "        await google.colab.output.renderOutput(dataTable, element);\n",
              "        const docLink = document.createElement('div');\n",
              "        docLink.innerHTML = docLinkHtml;\n",
              "        element.appendChild(docLink);\n",
              "      }\n",
              "    </script>\n",
              "  </div>\n",
              "\n",
              "\n",
              "<div id=\"df-7ef90497-9fab-41ae-a8a3-98edc4e17b46\">\n",
              "  <button class=\"colab-df-quickchart\" onclick=\"quickchart('df-7ef90497-9fab-41ae-a8a3-98edc4e17b46')\"\n",
              "            title=\"Suggest charts\"\n",
              "            style=\"display:none;\">\n",
              "\n",
              "<svg xmlns=\"http://www.w3.org/2000/svg\" height=\"24px\"viewBox=\"0 0 24 24\"\n",
              "     width=\"24px\">\n",
              "    <g>\n",
              "        <path d=\"M19 3H5c-1.1 0-2 .9-2 2v14c0 1.1.9 2 2 2h14c1.1 0 2-.9 2-2V5c0-1.1-.9-2-2-2zM9 17H7v-7h2v7zm4 0h-2V7h2v10zm4 0h-2v-4h2v4z\"/>\n",
              "    </g>\n",
              "</svg>\n",
              "  </button>\n",
              "\n",
              "<style>\n",
              "  .colab-df-quickchart {\n",
              "      --bg-color: #E8F0FE;\n",
              "      --fill-color: #1967D2;\n",
              "      --hover-bg-color: #E2EBFA;\n",
              "      --hover-fill-color: #174EA6;\n",
              "      --disabled-fill-color: #AAA;\n",
              "      --disabled-bg-color: #DDD;\n",
              "  }\n",
              "\n",
              "  [theme=dark] .colab-df-quickchart {\n",
              "      --bg-color: #3B4455;\n",
              "      --fill-color: #D2E3FC;\n",
              "      --hover-bg-color: #434B5C;\n",
              "      --hover-fill-color: #FFFFFF;\n",
              "      --disabled-bg-color: #3B4455;\n",
              "      --disabled-fill-color: #666;\n",
              "  }\n",
              "\n",
              "  .colab-df-quickchart {\n",
              "    background-color: var(--bg-color);\n",
              "    border: none;\n",
              "    border-radius: 50%;\n",
              "    cursor: pointer;\n",
              "    display: none;\n",
              "    fill: var(--fill-color);\n",
              "    height: 32px;\n",
              "    padding: 0;\n",
              "    width: 32px;\n",
              "  }\n",
              "\n",
              "  .colab-df-quickchart:hover {\n",
              "    background-color: var(--hover-bg-color);\n",
              "    box-shadow: 0 1px 2px rgba(60, 64, 67, 0.3), 0 1px 3px 1px rgba(60, 64, 67, 0.15);\n",
              "    fill: var(--button-hover-fill-color);\n",
              "  }\n",
              "\n",
              "  .colab-df-quickchart-complete:disabled,\n",
              "  .colab-df-quickchart-complete:disabled:hover {\n",
              "    background-color: var(--disabled-bg-color);\n",
              "    fill: var(--disabled-fill-color);\n",
              "    box-shadow: none;\n",
              "  }\n",
              "\n",
              "  .colab-df-spinner {\n",
              "    border: 2px solid var(--fill-color);\n",
              "    border-color: transparent;\n",
              "    border-bottom-color: var(--fill-color);\n",
              "    animation:\n",
              "      spin 1s steps(1) infinite;\n",
              "  }\n",
              "\n",
              "  @keyframes spin {\n",
              "    0% {\n",
              "      border-color: transparent;\n",
              "      border-bottom-color: var(--fill-color);\n",
              "      border-left-color: var(--fill-color);\n",
              "    }\n",
              "    20% {\n",
              "      border-color: transparent;\n",
              "      border-left-color: var(--fill-color);\n",
              "      border-top-color: var(--fill-color);\n",
              "    }\n",
              "    30% {\n",
              "      border-color: transparent;\n",
              "      border-left-color: var(--fill-color);\n",
              "      border-top-color: var(--fill-color);\n",
              "      border-right-color: var(--fill-color);\n",
              "    }\n",
              "    40% {\n",
              "      border-color: transparent;\n",
              "      border-right-color: var(--fill-color);\n",
              "      border-top-color: var(--fill-color);\n",
              "    }\n",
              "    60% {\n",
              "      border-color: transparent;\n",
              "      border-right-color: var(--fill-color);\n",
              "    }\n",
              "    80% {\n",
              "      border-color: transparent;\n",
              "      border-right-color: var(--fill-color);\n",
              "      border-bottom-color: var(--fill-color);\n",
              "    }\n",
              "    90% {\n",
              "      border-color: transparent;\n",
              "      border-bottom-color: var(--fill-color);\n",
              "    }\n",
              "  }\n",
              "</style>\n",
              "\n",
              "  <script>\n",
              "    async function quickchart(key) {\n",
              "      const quickchartButtonEl =\n",
              "        document.querySelector('#' + key + ' button');\n",
              "      quickchartButtonEl.disabled = true;  // To prevent multiple clicks.\n",
              "      quickchartButtonEl.classList.add('colab-df-spinner');\n",
              "      try {\n",
              "        const charts = await google.colab.kernel.invokeFunction(\n",
              "            'suggestCharts', [key], {});\n",
              "      } catch (error) {\n",
              "        console.error('Error during call to suggestCharts:', error);\n",
              "      }\n",
              "      quickchartButtonEl.classList.remove('colab-df-spinner');\n",
              "      quickchartButtonEl.classList.add('colab-df-quickchart-complete');\n",
              "    }\n",
              "    (() => {\n",
              "      let quickchartButtonEl =\n",
              "        document.querySelector('#df-7ef90497-9fab-41ae-a8a3-98edc4e17b46 button');\n",
              "      quickchartButtonEl.style.display =\n",
              "        google.colab.kernel.accessAllowed ? 'block' : 'none';\n",
              "    })();\n",
              "  </script>\n",
              "</div>\n",
              "\n",
              "  <div id=\"id_6c07481e-0bbc-44ee-aeb9-68f749fe2078\">\n",
              "    <style>\n",
              "      .colab-df-generate {\n",
              "        background-color: #E8F0FE;\n",
              "        border: none;\n",
              "        border-radius: 50%;\n",
              "        cursor: pointer;\n",
              "        display: none;\n",
              "        fill: #1967D2;\n",
              "        height: 32px;\n",
              "        padding: 0 0 0 0;\n",
              "        width: 32px;\n",
              "      }\n",
              "\n",
              "      .colab-df-generate:hover {\n",
              "        background-color: #E2EBFA;\n",
              "        box-shadow: 0px 1px 2px rgba(60, 64, 67, 0.3), 0px 1px 3px 1px rgba(60, 64, 67, 0.15);\n",
              "        fill: #174EA6;\n",
              "      }\n",
              "\n",
              "      [theme=dark] .colab-df-generate {\n",
              "        background-color: #3B4455;\n",
              "        fill: #D2E3FC;\n",
              "      }\n",
              "\n",
              "      [theme=dark] .colab-df-generate:hover {\n",
              "        background-color: #434B5C;\n",
              "        box-shadow: 0px 1px 3px 1px rgba(0, 0, 0, 0.15);\n",
              "        filter: drop-shadow(0px 1px 2px rgba(0, 0, 0, 0.3));\n",
              "        fill: #FFFFFF;\n",
              "      }\n",
              "    </style>\n",
              "    <button class=\"colab-df-generate\" onclick=\"generateWithVariable('judgemnt_df')\"\n",
              "            title=\"Generate code using this dataframe.\"\n",
              "            style=\"display:none;\">\n",
              "\n",
              "  <svg xmlns=\"http://www.w3.org/2000/svg\" height=\"24px\"viewBox=\"0 0 24 24\"\n",
              "       width=\"24px\">\n",
              "    <path d=\"M7,19H8.4L18.45,9,17,7.55,7,17.6ZM5,21V16.75L18.45,3.32a2,2,0,0,1,2.83,0l1.4,1.43a1.91,1.91,0,0,1,.58,1.4,1.91,1.91,0,0,1-.58,1.4L9.25,21ZM18.45,9,17,7.55Zm-12,3A5.31,5.31,0,0,0,4.9,8.1,5.31,5.31,0,0,0,1,6.5,5.31,5.31,0,0,0,4.9,4.9,5.31,5.31,0,0,0,6.5,1,5.31,5.31,0,0,0,8.1,4.9,5.31,5.31,0,0,0,12,6.5,5.46,5.46,0,0,0,6.5,12Z\"/>\n",
              "  </svg>\n",
              "    </button>\n",
              "    <script>\n",
              "      (() => {\n",
              "      const buttonEl =\n",
              "        document.querySelector('#id_6c07481e-0bbc-44ee-aeb9-68f749fe2078 button.colab-df-generate');\n",
              "      buttonEl.style.display =\n",
              "        google.colab.kernel.accessAllowed ? 'block' : 'none';\n",
              "\n",
              "      buttonEl.onclick = () => {\n",
              "        google.colab.notebook.generateWithVariable('judgemnt_df');\n",
              "      }\n",
              "      })();\n",
              "    </script>\n",
              "  </div>\n",
              "\n",
              "    </div>\n",
              "  </div>\n"
            ],
            "application/vnd.google.colaboratory.intrinsic+json": {
              "type": "dataframe",
              "variable_name": "judgemnt_df"
            }
          },
          "metadata": {},
          "execution_count": 23
        }
      ],
      "source": [
        "judgemnt_df[judgemnt_df.duplicated()]"
      ]
    },
    {
      "cell_type": "code",
      "execution_count": 24,
      "metadata": {
        "id": "bH1zLd2M6r3i"
      },
      "outputs": [],
      "source": [
        "dwug_u = []                                           #dwug data uses paths\n",
        "for i in dirlist[0]:\n",
        "  dwugde_u = \"dwug_de/data/\" + i + \"/uses.csv\"\n",
        "  dwug_u.append(dwugde_u)\n",
        "for i in dirlist[1]:\n",
        "  dwugen_u = \"dwug_en/data/\" + i + \"/uses.csv\"\n",
        "  dwug_u.append(dwugen_u)\n",
        "for i in dirlist[2]:\n",
        "  dwugsv_u = \"dwug_sv/data/\" + i + \"/uses.csv\"\n",
        "  dwug_u.append(dwugsv_u)\n",
        "for i in dirlist[3]:\n",
        "  discowugg_u = \"discowug/data/\" + i + \"/uses.csv\"\n",
        "  dwug_u.append(discowugg_u)\n",
        "for i in dirlist[4]:\n",
        "  durel_u = \"durel/data/\" + i + \"/uses.csv\"\n",
        "  dwug_u.append(durel_u)\n",
        "for i in dirlist[5]:\n",
        "  surel_u = \"surel/data/\" + i + \"/uses.csv\"\n",
        "  dwug_u.append(surel_u)\n",
        "for i in dirlist[6]:\n",
        "  refwug_u = \"refwug/data/\" + i + \"/uses.csv\"\n",
        "  dwug_u.append(refwug_u)\n",
        "for i in dirlist[7]:\n",
        "  dwuges_u = \"dwug_es/data/\" + i + \"/uses.csv\"\n",
        "  dwug_u.append(dwuges_u)\n",
        "for i in dirlist[8]:\n",
        "  diawug_u = \"diawug/data/\" + i + \"/uses.csv\"\n",
        "  dwug_u.append(diawug_u)\n",
        "for i in dirlist[9]:\n",
        "  dups_u = \"chiwug/data/\" + i + \"/uses.csv\"\n",
        "  dwug_u.append(dups_u)"
      ]
    },
    {
      "cell_type": "code",
      "execution_count": 25,
      "metadata": {
        "id": "3i1SnqaGleIR"
      },
      "outputs": [],
      "source": [
        "judgemnt_df.loc[judgemnt_df[\"dataset\"] == \"dwug_de\", \"language\"] = 'German'\n",
        "judgemnt_df.loc[judgemnt_df[\"dataset\"] == \"dwug_en\", \"language\"] = 'English'\n",
        "judgemnt_df.loc[judgemnt_df[\"dataset\"] == \"chiwug\", \"language\"] = 'Chinese'\n",
        "judgemnt_df.loc[judgemnt_df[\"dataset\"] == \"dwug_es\", \"language\"] = 'Spanish'\n",
        "judgemnt_df.loc[judgemnt_df[\"dataset\"] == \"dwug_sv\", \"language\"] = 'Swedish'\n",
        "judgemnt_df.loc[judgemnt_df[\"dataset\"] == \"durel\", \"language\"] = 'German'\n",
        "judgemnt_df.loc[judgemnt_df[\"dataset\"] == \"surel\", \"language\"] = 'German'\n",
        "judgemnt_df.loc[judgemnt_df[\"dataset\"] == \"discowug\", \"language\"] = 'German'\n",
        "judgemnt_df.loc[judgemnt_df[\"dataset\"] == \"refwug\", \"language\"] = 'German'\n",
        "judgemnt_df.loc[judgemnt_df[\"dataset\"] == \"diawug\", \"language\"] = 'Spanish'\n"
      ]
    },
    {
      "cell_type": "code",
      "execution_count": 26,
      "metadata": {
        "id": "I2OPKvW_LrXW"
      },
      "outputs": [],
      "source": [
        "judgment_df = judgemnt_df.reset_index(drop=True)"
      ]
    },
    {
      "cell_type": "code",
      "execution_count": 27,
      "metadata": {
        "id": "H5UNk2kXD2oU"
      },
      "outputs": [],
      "source": [
        "usee_df = pd.DataFrame()            #uses dwug df\n",
        "for i in dwug_u:\n",
        "    Tmp = pd.read_csv(i, delimiter='\\t', quoting = 3)\n",
        "    Tmp['dataset'] = i.split('/')[0]\n",
        "    usee_df = pd.concat([usee_df, Tmp])"
      ]
    },
    {
      "cell_type": "code",
      "execution_count": 28,
      "metadata": {
        "id": "Swq_wL0BpUYf"
      },
      "outputs": [],
      "source": [
        "usee_df.loc[usee_df[\"dataset\"] == \"dwug_de\", \"language\"] = 'German'\n",
        "usee_df.loc[usee_df[\"dataset\"] == \"dwug_en\", \"language\"] = 'English'\n",
        "usee_df.loc[usee_df[\"dataset\"] == \"chiwug\", \"language\"] = 'Chinese'\n",
        "usee_df.loc[usee_df[\"dataset\"] == \"dwug_es\", \"language\"] = 'Spanish'\n",
        "#usee_df.loc[usee_df[\"dataset\"] == \"dwug_la\", \"language\"] = 'latin'\n",
        "usee_df.loc[usee_df[\"dataset\"] == \"dwug_sv\", \"language\"] = 'Swedish'\n",
        "usee_df.loc[usee_df[\"dataset\"] == \"durel\", \"language\"] = 'German'\n",
        "usee_df.loc[usee_df[\"dataset\"] == \"surel\", \"language\"] = 'German'\n",
        "usee_df.loc[usee_df[\"dataset\"] == \"discowug\", \"language\"] = 'German'\n",
        "usee_df.loc[usee_df[\"dataset\"] == \"refwug\", \"language\"] = 'German'\n",
        "usee_df.loc[usee_df[\"dataset\"] == \"diawug\", \"language\"] = 'Spanish'"
      ]
    },
    {
      "cell_type": "code",
      "execution_count": 29,
      "metadata": {
        "id": "-Hs9BgeUHPxZ"
      },
      "outputs": [],
      "source": [
        "#getting the data\n",
        "rudsi_f = os.listdir(rudsi)\n",
        "nordia_f1= os.listdir(nordia1)\n",
        "nordia_f2 =os.listdir(nordia2)\n",
        "rushift_f1 = os.listdir(rushifteval1)\n",
        "rushift_f2 = os.listdir(rushifteval2)\n",
        "rushift_f3 = os.listdir(rushifteval3)\n",
        "rusem_f1 = os.listdir(rusemshift1)\n",
        "rusem_f2 = os.listdir(rusemshift2)"
      ]
    },
    {
      "cell_type": "code",
      "execution_count": 30,
      "metadata": {
        "id": "uTjddnWNuE1o"
      },
      "outputs": [],
      "source": [
        "judgements_rusem = []\n",
        "judgements_nordia = []\n",
        "judgements_rudsi = []\n",
        "judgements_rushift = []\n",
        "uses_rusem = []\n",
        "uses_nordia = []\n",
        "uses_rudsi = []\n",
        "uses_rushift = []\n"
      ]
    },
    {
      "cell_type": "code",
      "execution_count": 31,
      "metadata": {
        "id": "wg8mnhgA_M9s"
      },
      "outputs": [],
      "source": [
        "for j in rudsi_f :\n",
        "      judgements_rudsi.append(rudsi+j+\"/judgments.csv\")\n",
        "      uses_rudsi.append(rudsi+j+\"/uses.csv\")\n",
        "for j in rusem_f1:\n",
        "      judgements_rusem.append(rusemshift1+j+\"/judgments.csv\")\n",
        "      uses_rusem.append(rusemshift1+j+\"/uses.csv\")\n",
        "for j in rusem_f2:\n",
        "      judgements_rusem.append(rusemshift2+j+\"/judgments.csv\")\n",
        "      uses_rusem.append(rusemshift2+j+\"/uses.csv\")\n",
        "for j in rushift_f1 :\n",
        "      judgements_rushift.append(rushifteval1+j+\"/judgments.csv\")\n",
        "      uses_rushift.append(rushifteval1+j+\"/uses.csv\")\n",
        "for j in rushift_f2 :\n",
        "      judgements_rushift.append(rushifteval2+j+\"/judgments.csv\")\n",
        "      uses_rushift.append(rushifteval2+j+\"/uses.csv\")\n",
        "for j in rushift_f3 :\n",
        "      judgements_rushift.append(rushifteval3+j+\"/judgments.csv\")\n",
        "      uses_rushift.append(rushifteval3+j+\"/uses.csv\")\n",
        "for j in nordia_f1 :\n",
        "      judgements_nordia.append(nordia1+j+\"/judgments.csv\")\n",
        "      uses_nordia.append(nordia1+j+\"/uses.csv\")\n",
        "for j in nordia_f2:\n",
        "      judgements_nordia.append(nordia2+j+\"/judgments.csv\")\n",
        "      uses_nordia.append(nordia2+j+\"/uses.csv\")"
      ]
    },
    {
      "cell_type": "code",
      "execution_count": 32,
      "metadata": {
        "id": "4DuRGR6jrfD2"
      },
      "outputs": [],
      "source": [
        "#judgments dataframe for rudsi, rusemshift, rushifteval, nordiachange\n",
        "jud_rudsi = pd.DataFrame()\n",
        "for i in judgements_rudsi:\n",
        "    Tmp = pd.read_csv(i, delimiter='\\t', quoting = 3)\n",
        "    Tmp['dataset'] = i.split('/')[0]\n",
        "    jud_rudsi = pd.concat([jud_rudsi, Tmp])\n"
      ]
    },
    {
      "cell_type": "code",
      "execution_count": 33,
      "metadata": {
        "id": "BhWQ9x3NSf9q"
      },
      "outputs": [],
      "source": [
        "jud_rusems = pd.DataFrame()\n",
        "for i in judgements_rusem:\n",
        "   Tmp = pd.read_csv(i, delimiter='\\t', quoting = 3)\n",
        "   Tmp['dataset'] = i.split('/')[1]\n",
        "   jud_rusems = pd.concat([jud_rusems, Tmp])\n"
      ]
    },
    {
      "cell_type": "code",
      "execution_count": 34,
      "metadata": {
        "id": "5Fs6Aty1TlPm"
      },
      "outputs": [],
      "source": [
        "jud_rushift = pd.DataFrame()\n",
        "for i in judgements_rushift:\n",
        "   Tmp = pd.read_csv(i, delimiter='\\t', quoting = 3)\n",
        "   Tmp['dataset'] = i.split('/')[2]\n",
        "   jud_rushift = pd.concat([jud_rushift, Tmp])"
      ]
    },
    {
      "cell_type": "code",
      "execution_count": 35,
      "metadata": {
        "id": "UyIaj_uXUaPm"
      },
      "outputs": [],
      "source": [
        "jud_nordia = pd.DataFrame()\n",
        "for i in judgements_nordia:\n",
        "   Tmp = pd.read_csv(i, delimiter='\\t', quoting = 3)\n",
        "   Tmp['dataset'] = i.split('/')[1]\n",
        "   jud_nordia = pd.concat([jud_nordia, Tmp])"
      ]
    },
    {
      "cell_type": "code",
      "execution_count": 37,
      "metadata": {
        "id": "iMldrMUuVYun"
      },
      "outputs": [],
      "source": [
        "jud_nordia.loc[jud_nordia['dataset'] == 'subset1', 'dataset'] = 'NorDiaChange1'\n",
        "jud_nordia.loc[jud_nordia['dataset'] == 'subset2', 'dataset'] = 'NorDiaChange2'"
      ]
    },
    {
      "cell_type": "code",
      "execution_count": 38,
      "metadata": {
        "id": "sc4yhIN2V590"
      },
      "outputs": [],
      "source": [
        "judgements_df = pd.DataFrame()\n",
        "judgements_df = pd.concat([judgements_df, jud_rudsi])\n",
        "judgements_df = pd.concat([judgements_df, jud_rusems])\n",
        "judgements_df = pd.concat([judgements_df, jud_rushift])\n",
        "judgements_df = pd.concat([judgements_df, jud_nordia])"
      ]
    },
    {
      "cell_type": "code",
      "execution_count": 39,
      "metadata": {
        "id": "IEcwGGWLKxP1"
      },
      "outputs": [],
      "source": [
        "judgements_df[\"language\"] = \"Russian\""
      ]
    },
    {
      "cell_type": "code",
      "execution_count": 40,
      "metadata": {
        "id": "oyKbDqb-q_hK"
      },
      "outputs": [],
      "source": [
        "judgements_df.loc[judgements_df[\"dataset\"] == \"NorDiaChange1\", \"language\"] = 'Norwegian'\n",
        "judgements_df.loc[judgements_df[\"dataset\"] == \"NorDiaChange2\", \"language\"] = 'Norwegian'"
      ]
    },
    {
      "cell_type": "code",
      "execution_count": 41,
      "metadata": {
        "id": "y-Cg5SqnW2br"
      },
      "outputs": [],
      "source": [
        "use_rudsi = pd.DataFrame()\n",
        "for i in uses_rudsi:\n",
        "   Tmp = pd.read_csv(i, delimiter='\\t', quoting = 3)\n",
        "   Tmp['dataset'] = i.split('/')[0]\n",
        "   use_rudsi = pd.concat([use_rudsi, Tmp])"
      ]
    },
    {
      "cell_type": "code",
      "execution_count": 42,
      "metadata": {
        "id": "VSnf0MX2W-pU"
      },
      "outputs": [],
      "source": [
        "use_rusems = pd.DataFrame()\n",
        "for i in uses_rusem:\n",
        "   Tmp = pd.read_csv(i, delimiter='\\t', quoting = 3)\n",
        "   Tmp['dataset'] = i.split('/')[1]\n",
        "   use_rusems = pd.concat([use_rusems, Tmp])"
      ]
    },
    {
      "cell_type": "code",
      "execution_count": 43,
      "metadata": {
        "id": "k7Ey9vEIXCoL"
      },
      "outputs": [],
      "source": [
        "use_rushift = pd.DataFrame()\n",
        "for i in uses_rushift:\n",
        "   Tmp = pd.read_csv(i, delimiter='\\t', quoting = 3)\n",
        "   Tmp['dataset'] = i.split('/')[2]\n",
        "   use_rushift = pd.concat([use_rushift, Tmp])"
      ]
    },
    {
      "cell_type": "code",
      "execution_count": 44,
      "metadata": {
        "id": "eD0MlB2CXFf0"
      },
      "outputs": [],
      "source": [
        "use_nordia = pd.DataFrame()\n",
        "for i in uses_nordia:\n",
        "   Tmp = pd.read_csv(i, delimiter='\\t', quoting = 3)\n",
        "   Tmp['dataset'] = i.split('/')[1]\n",
        "   use_nordia = pd.concat([use_nordia, Tmp])"
      ]
    },
    {
      "cell_type": "code",
      "execution_count": 45,
      "metadata": {
        "id": "OgGclWBxDZxj"
      },
      "outputs": [],
      "source": [
        "use_nordia.loc[use_nordia['dataset'] == 'subset1', 'dataset'] = 'NorDiaChange1'\n",
        "use_nordia.loc[use_nordia['dataset'] == 'subset2', 'dataset'] = 'NorDiaChange2'"
      ]
    },
    {
      "cell_type": "code",
      "execution_count": 46,
      "metadata": {
        "id": "NbDiBv5VXp7J"
      },
      "outputs": [],
      "source": [
        "usees_df = pd.DataFrame()\n",
        "usees_df = pd.concat([usees_df, use_rudsi])\n",
        "usees_df = pd.concat([usees_df, use_rusems])\n",
        "usees_df = pd.concat([usees_df, use_rushift])\n",
        "usees_df = pd.concat([usees_df, use_nordia])"
      ]
    },
    {
      "cell_type": "code",
      "execution_count": 47,
      "metadata": {
        "id": "ikn0jHLOtY35"
      },
      "outputs": [],
      "source": [
        "usees_df['language'] = 'Russian'\n",
        "usees_df.loc[usees_df[\"dataset\"] == \"NorDiaChange1\", \"language\"] = 'Norwegian'\n",
        "usees_df.loc[usees_df[\"dataset\"] == \"NorDiaChange2\", \"language\"] = 'Norwegian'"
      ]
    },
    {
      "cell_type": "code",
      "execution_count": 48,
      "metadata": {
        "id": "oS__0wkBdjfP"
      },
      "outputs": [],
      "source": [
        "#final judgments dataframe full format\n",
        "judgments_full = pd.concat([judgment_df, judgements_df], axis = 0)"
      ]
    },
    {
      "cell_type": "code",
      "execution_count": 49,
      "metadata": {
        "colab": {
          "base_uri": "https://localhost:8080/"
        },
        "id": "TTBYXke53RrK",
        "outputId": "d0e50704-01d9-41ee-a23c-b1f70a272576"
      },
      "outputs": [
        {
          "output_type": "execute_result",
          "data": {
            "text/plain": [
              "array(['dwug_de', 'dwug_en', 'dwug_sv', 'discowug', 'durel', 'surel',\n",
              "       'refwug', 'dwug_es', 'diawug', 'chiwug', 'RuDSI', 'rusemshift_1',\n",
              "       'rusemshift_2', 'rushifteval1', 'rushifteval2', 'rushifteval3',\n",
              "       'NorDiaChange1', 'NorDiaChange2'], dtype=object)"
            ]
          },
          "metadata": {},
          "execution_count": 49
        }
      ],
      "source": [
        "judgments_full.dataset.unique()"
      ]
    },
    {
      "cell_type": "code",
      "execution_count": 50,
      "metadata": {
        "id": "AxBZ18nA7Ky2"
      },
      "outputs": [],
      "source": [
        "#final uses dataframe full format\n",
        "uses_full = pd.concat([usee_df, usees_df], axis=0)"
      ]
    },
    {
      "cell_type": "code",
      "execution_count": 51,
      "metadata": {
        "id": "3DWumP4cKuFn"
      },
      "outputs": [],
      "source": [
        "#resetting the index of uses and judgments dataframes because they have repeated indices\n",
        "judgments_full = judgments_full.reset_index(drop= True)\n",
        "uses_full = uses_full.reset_index(drop= True)"
      ]
    },
    {
      "cell_type": "code",
      "execution_count": 52,
      "metadata": {
        "id": "zeUvy7OHvdby"
      },
      "outputs": [],
      "source": [
        "#final uses and judgments in wug format\n",
        "judgments_wug = judgments_full[[\"identifier1\", \"identifier2\", \"annotator\", \"judgment\", \"comment\", \"lemma\", \"dataset\", \"language\"]]\n",
        "uses_wug= uses_full[['lemma', 'pos', 'date', 'grouping', 'identifier', 'description', 'context', 'indexes_target_token', 'indexes_target_sentence', 'dataset', 'language']]"
      ]
    },
    {
      "cell_type": "code",
      "execution_count": 53,
      "metadata": {
        "id": "cXRNcF1-lreW"
      },
      "outputs": [],
      "source": [
        "dup = uses_full[uses_full.duplicated()] #to gwt duplicates"
      ]
    },
    {
      "cell_type": "code",
      "source": [
        "judgments_wug.to_csv('final_judgments.csv',index = False, sep='\\t', encoding='utf-8', quoting=csv.QUOTE_NONE, quotechar = '')"
      ],
      "metadata": {
        "id": "65rGJV7cHDtv"
      },
      "execution_count": 60,
      "outputs": []
    },
    {
      "cell_type": "code",
      "source": [
        "uses_wug.to_csv('final_uses.csv',index = False, sep='\\t', encoding='utf-8', quoting=csv.QUOTE_NONE, quotechar = '')"
      ],
      "metadata": {
        "id": "eZQtEJM0IP3g"
      },
      "execution_count": 61,
      "outputs": []
    },
    {
      "cell_type": "code",
      "source": [],
      "metadata": {
        "id": "d92BIhmaNbdg"
      },
      "execution_count": null,
      "outputs": []
    }
  ],
  "metadata": {
    "accelerator": "GPU",
    "colab": {
      "gpuType": "T4",
      "provenance": [],
      "include_colab_link": true
    },
    "kernelspec": {
      "display_name": "Python 3",
      "name": "python3"
    },
    "language_info": {
      "name": "python"
    }
  },
  "nbformat": 4,
  "nbformat_minor": 0
}
